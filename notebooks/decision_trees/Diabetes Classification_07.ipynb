{
  "cells": [
    {
      "attachments": {},
      "cell_type": "markdown",
      "metadata": {
        "colab_type": "text",
        "id": "UrS-p85lx7GO"
      },
      "source": [
        "<img src=\"datamecum_logo.png\" align=\"right\" style=\"float\" width=\"400\">\n",
        "<font color=\"#CA3532\"><h1 align=\"left\">Programa técnico intensivo en data science. Datamecum.</h1></font>\n",
        "<font color=\"#6E6E6E\"><h2 align=\"left\">Decision Trees</h2></font> \n",
        "\n",
        "# **Predicción de la diabetes**\n",
        "\n",
        "*Dataset Link: https://www.kaggle.com/johndasilva/diabetes*"
      ]
    },
    {
      "cell_type": "code",
      "execution_count": null,
      "metadata": {
        "colab": {},
        "colab_type": "code",
        "id": "4xUDcfBU3JDc"
      },
      "outputs": [],
      "source": [
        "import numpy as np\n",
        "import pandas as pd\n",
        "\n",
        "import matplotlib.pyplot as plt\n",
        "import seaborn as sns\n",
        "%matplotlib inline"
      ]
    },
    {
      "cell_type": "code",
      "execution_count": null,
      "metadata": {
        "colab": {},
        "colab_type": "code",
        "id": "v7FHl5TU3JDh",
        "scrolled": true
      },
      "outputs": [],
      "source": [
        "df = pd.read_csv('./data/diabetes.csv')"
      ]
    },
    {
      "attachments": {},
      "cell_type": "markdown",
      "metadata": {
        "colab_type": "text",
        "id": "SjBB0JyK3JDk"
      },
      "source": [
        "# Exploración del dataset"
      ]
    },
    {
      "cell_type": "markdown",
      "metadata": {
        "colab_type": "text",
        "id": "XrbvKzGH3JD_"
      },
      "source": [
        "# Data Cleaning"
      ]
    },
    {
      "cell_type": "code",
      "execution_count": null,
      "metadata": {
        "colab": {
          "base_uri": "https://localhost:8080/",
          "height": 202
        },
        "colab_type": "code",
        "id": "XwBCwiaM3JD_",
        "outputId": "1804baa9-c596-4360-c005-ecf6a8529f45",
        "scrolled": true
      },
      "outputs": [],
      "source": [
        "# Analiza los nan y rellenalos con el valor que consideres dependiendo de la distribucion"
      ]
    },
    {
      "attachments": {},
      "cell_type": "markdown",
      "metadata": {
        "colab_type": "text",
        "id": "--ARcFzq3JEK"
      },
      "source": [
        "# Construcción del modelo"
      ]
    },
    {
      "cell_type": "code",
      "execution_count": null,
      "metadata": {
        "colab": {
          "base_uri": "https://localhost:8080/",
          "height": 35
        },
        "colab_type": "code",
        "id": "TC6gk8wvzRaN",
        "outputId": "c4b18d8c-52c7-4a82-e87b-7c93a6b068a3"
      },
      "outputs": [],
      "source": [
        "from sklearn.model_selection import train_test_split\n",
        "# realiza la partición de datos"
      ]
    },
    {
      "cell_type": "code",
      "execution_count": null,
      "metadata": {
        "colab": {},
        "colab_type": "code",
        "id": "kEU3-uwu3JEK"
      },
      "outputs": [],
      "source": [
        "from sklearn.preprocessing import StandardScaler\n",
        "\n",
        "# Estandariza los datos"
      ]
    },
    {
      "cell_type": "code",
      "execution_count": null,
      "metadata": {
        "colab": {},
        "colab_type": "code",
        "id": "WJdY_Qof3JEQ"
      },
      "outputs": [],
      "source": [
        "from sklearn.model_selection import GridSearchCV\n",
        "from sklearn.model_selection import ShuffleSplit\n",
        "from sklearn.linear_model import LogisticRegression\n",
        "from sklearn.tree import DecisionTreeClassifier\n",
        "from sklearn.ensemble import RandomForestClassifier\n",
        "from sklearn.svm import SVC"
      ]
    },
    {
      "cell_type": "code",
      "execution_count": null,
      "metadata": {
        "colab": {
          "base_uri": "https://localhost:8080/",
          "height": 175
        },
        "colab_type": "code",
        "id": "ZH88KB8V3JES",
        "outputId": "72d61cec-b5fc-42ff-d458-09172aabd6a9"
      },
      "outputs": [],
      "source": [
        "def find_best_model(X, y):\n",
        "    \n",
        "    # utiliza el grid serach para encontrar el mejor modelo\n",
        "        \n",
        "    return pd.DataFrame(scores, columns=['model','best_parameters','score'])\n"
      ]
    },
    {
      "attachments": {},
      "cell_type": "markdown",
      "metadata": {
        "colab_type": "text",
        "id": "wsFM9vUt3JEU"
      },
      "source": [
        "*Nota: Dado que el algoritmo Random Forest es el más preciso, seguimos ajustando el modelo mediante la optimización de hiperparámetros."
      ]
    },
    {
      "cell_type": "code",
      "execution_count": null,
      "metadata": {
        "colab": {
          "base_uri": "https://localhost:8080/",
          "height": 35
        },
        "colab_type": "code",
        "id": "g8uyaELV3JEU",
        "outputId": "b27a18ce-d47a-4fd7-ec78-b7668c6e75b7"
      },
      "outputs": [],
      "source": [
        "from sklearn.model_selection import cross_val_score\n",
        "#entrena el modelo"
      ]
    },
    {
      "attachments": {},
      "cell_type": "markdown",
      "metadata": {
        "colab_type": "text",
        "id": "DdlS0qSO1nBN"
      },
      "source": [
        "# Evaluación del modelo"
      ]
    },
    {
      "cell_type": "code",
      "execution_count": null,
      "metadata": {
        "colab": {
          "base_uri": "https://localhost:8080/",
          "height": 54
        },
        "colab_type": "code",
        "id": "pluF-HMb3JEj",
        "outputId": "0f38e47e-1ec9-49b5-cca0-b153859798e6"
      },
      "outputs": [],
      "source": [
        "from sklearn.metrics import confusion_matrix, classification_report, accuracy_score\n",
        "# contruye la matriz de confusion"
      ]
    },
    {
      "cell_type": "code",
      "execution_count": null,
      "metadata": {
        "colab": {
          "base_uri": "https://localhost:8080/",
          "height": 458
        },
        "colab_type": "code",
        "id": "X13MSU9P3JEl",
        "outputId": "52823dc8-d104-4c4a-b1b6-20be37246216"
      },
      "outputs": [],
      "source": [
        "# dibuja la matriz de confusion"
      ]
    },
    {
      "cell_type": "code",
      "execution_count": null,
      "metadata": {
        "colab": {
          "base_uri": "https://localhost:8080/",
          "height": 35
        },
        "colab_type": "code",
        "id": "-DB-PXfo2epo",
        "outputId": "1912bf2b-e507-4522-8e6d-858cd1d566a1"
      },
      "outputs": [],
      "source": [
        "# Accuracy Score\n"
      ]
    },
    {
      "cell_type": "code",
      "execution_count": null,
      "metadata": {
        "colab": {
          "base_uri": "https://localhost:8080/",
          "height": 183
        },
        "colab_type": "code",
        "id": "X1sscutg4T7G",
        "outputId": "25f23ee2-ddbe-4a71-c398-6acdef1c14b3"
      },
      "outputs": [],
      "source": [
        "print(classification_report(y_test, y_pred))"
      ]
    },
    {
      "cell_type": "markdown",
      "metadata": {
        "colab_type": "text",
        "id": "HuKxvMZT1kJO"
      },
      "source": [
        "# Predictions"
      ]
    }
  ],
  "metadata": {
    "colab": {
      "collapsed_sections": [],
      "name": "Diabetes Predictor.ipynb",
      "provenance": []
    },
    "kernelspec": {
      "display_name": "Python 3",
      "language": "python",
      "name": "python3"
    },
    "language_info": {
      "codemirror_mode": {
        "name": "ipython",
        "version": 3
      },
      "file_extension": ".py",
      "mimetype": "text/x-python",
      "name": "python",
      "nbconvert_exporter": "python",
      "pygments_lexer": "ipython3",
      "version": "3.8.10 (default, Nov 14 2022, 12:59:47) \n[GCC 9.4.0]"
    },
    "vscode": {
      "interpreter": {
        "hash": "31f2aee4e71d21fbe5cf8b01ff0e069b9275f58929596ceb00d14d90e3e16cd6"
      }
    }
  },
  "nbformat": 4,
  "nbformat_minor": 0
}
