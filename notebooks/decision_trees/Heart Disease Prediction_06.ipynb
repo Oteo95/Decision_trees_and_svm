{
 "cells": [
  {
   "attachments": {},
   "cell_type": "markdown",
   "metadata": {},
   "source": [
    "<img src=\"datamecum_logo.png\" align=\"right\" style=\"float\" width=\"400\">\n",
    "<font color=\"#CA3532\"><h1 align=\"left\">Programa técnico intensivo en data science. Datamecum.</h1></font>\n",
    "<font color=\"#6E6E6E\"><h2 align=\"left\">Decision Trees</h2></font> "
   ]
  },
  {
   "cell_type": "code",
   "execution_count": 1,
   "metadata": {
    "colab": {},
    "colab_type": "code",
    "id": "LwEqIVqOTIHd"
   },
   "outputs": [],
   "source": [
    "import numpy as np\n",
    "import pandas as pd\n",
    "import matplotlib.pyplot as plt\n",
    "%matplotlib inline\n",
    "import seaborn as sns\n",
    "from sklearn.preprocessing import StandardScaler\n",
    "from sklearn.neighbors import KNeighborsClassifier\n",
    "from sklearn.model_selection import cross_val_score\n",
    "from sklearn.tree import DecisionTreeClassifier\n",
    "from sklearn.ensemble import RandomForestClassifier\n"
   ]
  },
  {
   "cell_type": "code",
   "execution_count": 2,
   "metadata": {
    "colab": {},
    "colab_type": "code",
    "id": "JpIAT4StTd2m"
   },
   "outputs": [],
   "source": [
    "df = pd.read_csv('./data/heart.csv')"
   ]
  },
  {
   "attachments": {},
   "cell_type": "markdown",
   "metadata": {
    "colab_type": "text",
    "id": "9BEBuDSiTwfU"
   },
   "source": [
    "# **Exploración**"
   ]
  },
  {
   "attachments": {},
   "cell_type": "markdown",
   "metadata": {},
   "source": [
    "#### Realiza la exploración de datos para entender como son y si se necesita realizar algun tipo de ajuste sobre ellos."
   ]
  },
  {
   "cell_type": "markdown",
   "metadata": {
    "colab_type": "text",
    "id": "cVlUJwidVjLr"
   },
   "source": [
    "# **Data Visualization**"
   ]
  },
  {
   "attachments": {},
   "cell_type": "markdown",
   "metadata": {},
   "source": [
    "#### Realiza la visualización de datos para entender como son y si se necesita realizar algun tipo de ajuste sobre ellos."
   ]
  },
  {
   "cell_type": "markdown",
   "metadata": {
    "colab_type": "text",
    "id": "7xYk6MvkVH_b"
   },
   "source": [
    "# **Feature Engineering**"
   ]
  },
  {
   "attachments": {},
   "cell_type": "markdown",
   "metadata": {
    "colab_type": "text",
    "id": "iDJlzXOTVLvD"
   },
   "source": [
    "### Seleccion de las variables"
   ]
  },
  {
   "attachments": {},
   "cell_type": "markdown",
   "metadata": {
    "colab_type": "text",
    "id": "j1bd0Qd7adPW"
   },
   "source": [
    "# **Preprocesamiento de datos**"
   ]
  },
  {
   "attachments": {},
   "cell_type": "markdown",
   "metadata": {
    "colab_type": "text",
    "id": "ReYV5nD0cdVE"
   },
   "source": [
    "\n",
    "Tras explorar el conjunto de datos, observaremos que es necesario convertir las variables categóricas en variables one_hot mediante 'get_dummies()'. Aunque no tenemos ninguna cadena en nuestro conjunto de datos es necesario convertir ('sex', 'cp', 'fbs', 'restecg', 'exang', 'slope', 'ca', 'thal') estas características.\n",
    "\n",
    "*Ejemplo: Considere la columna 'sexo', es una característica binaria que tiene 0's y 1's como valores. Mantenerla como está llevaría al algoritmo a pensar que 0 es el valor más bajo y 1 el más alto, lo que no debería ser el caso ya que el sexo no puede ser una característica ordinal."
   ]
  },
  {
   "cell_type": "code",
   "execution_count": null,
   "metadata": {
    "colab": {},
    "colab_type": "code",
    "id": "wDII7RbTbFmM"
   },
   "outputs": [],
   "source": [
    "# Utiliza pd.get_dummies para transformar las columnas ['sex', 'cp', 'fbs', 'restecg', 'exang', 'slope', 'ca', 'thal']\n",
    "dataset = \"xxxx\""
   ]
  },
  {
   "cell_type": "code",
   "execution_count": null,
   "metadata": {
    "colab": {},
    "colab_type": "code",
    "id": "gktjo1Gye6Ra"
   },
   "outputs": [],
   "source": [
    "# Utiliza la funcion de skleanr StandardScaler para estandarizar ['age', 'trestbps', 'chol', 'thalach', 'oldpeak']\n",
    "standScaler = \"xxxxx\"\n",
    "columns_to_scale = \"xxxxxx\"\n",
    "dataset[columns_to_scale] = \"xxxxxx\""
   ]
  },
  {
   "cell_type": "code",
   "execution_count": null,
   "metadata": {
    "colab": {},
    "colab_type": "code",
    "id": "ordVXCj7gMwb"
   },
   "outputs": [],
   "source": [
    "# separa el dataset el conjunto predictor X y conjunto de etiquetas y\n"
   ]
  },
  {
   "attachments": {},
   "cell_type": "markdown",
   "metadata": {
    "colab_type": "text",
    "id": "bm53VwAcgnUa"
   },
   "source": [
    "# **Modelos**\n",
    "\n",
    "1. KNeighbors Classifier\n",
    "2. Decision Tree Classifier\n",
    "3. Random Forest Classifier"
   ]
  },
  {
   "cell_type": "markdown",
   "metadata": {
    "colab_type": "text",
    "id": "eko0NbkMg_rA"
   },
   "source": [
    "## KNeighbors Classifier Model"
   ]
  },
  {
   "cell_type": "code",
   "execution_count": null,
   "metadata": {
    "colab": {},
    "colab_type": "code",
    "id": "4m-Bsa2vhqV_"
   },
   "outputs": [],
   "source": [
    "knn_scores = []\n",
    "for i in range(1, 21):\n",
    "  knn_classifier = KNeighborsClassifier(n_neighbors=i)\n",
    "  cvs_scores = cross_val_score(knn_classifier, X, y, cv=10)\n",
    "  knn_scores.append(round(cvs_scores.mean(),3))"
   ]
  },
  {
   "cell_type": "code",
   "execution_count": null,
   "metadata": {
    "colab": {
     "base_uri": "https://localhost:8080/",
     "height": 850
    },
    "colab_type": "code",
    "id": "N5jcGJwZhqSm",
    "outputId": "e1cd2c46-ddba-4cab-b44b-4350ff5a87ec"
   },
   "outputs": [],
   "source": [
    "plt.figure(figsize=(20,15))\n",
    "plt.plot([k for k in range(1, 21)], knn_scores, color = 'red')\n",
    "for i in range(1,21):\n",
    "    plt.text(i, knn_scores[i-1], (i, knn_scores[i-1]))\n",
    "plt.xticks([i for i in range(1, 21)])\n",
    "plt.xlabel('Number of Neighbors (K)')\n",
    "plt.ylabel('Scores')\n",
    "plt.title('K Neighbors Classifier scores')"
   ]
  },
  {
   "cell_type": "code",
   "execution_count": null,
   "metadata": {
    "colab": {
     "base_uri": "https://localhost:8080/",
     "height": 34
    },
    "colab_type": "code",
    "id": "RHXct12JhqM1",
    "outputId": "7cd5fe61-f4bd-430d-b270-2455f246a009"
   },
   "outputs": [],
   "source": [
    "knn_classifier = KNeighborsClassifier(n_neighbors=12)\n",
    "cvs_scores = cross_val_score(knn_classifier, X, y, cv=10)\n",
    "print(\"KNeighbours Classifier Accuracy con K=12 es: {}%\".format(round(cvs_scores.mean(), 4)*100))"
   ]
  },
  {
   "cell_type": "markdown",
   "metadata": {
    "colab_type": "text",
    "id": "ePRTeaPJhD8i"
   },
   "source": [
    "## Decision Tree Classifier"
   ]
  },
  {
   "attachments": {},
   "cell_type": "markdown",
   "metadata": {
    "colab_type": "text",
    "id": "4zX2_2gmhI0r"
   },
   "source": [
    "## Random Forest"
   ]
  }
 ],
 "metadata": {
  "colab": {
   "collapsed_sections": [
    "9BEBuDSiTwfU",
    "cVlUJwidVjLr"
   ],
   "name": "Heart Disease Prediction.ipynb",
   "provenance": [],
   "toc_visible": true
  },
  "kernelspec": {
   "display_name": "Python 3",
   "language": "python",
   "name": "python3"
  },
  "language_info": {
   "codemirror_mode": {
    "name": "ipython",
    "version": 3
   },
   "file_extension": ".py",
   "mimetype": "text/x-python",
   "name": "python",
   "nbconvert_exporter": "python",
   "pygments_lexer": "ipython3",
   "version": "3.8.10 (default, Nov 14 2022, 12:59:47) \n[GCC 9.4.0]"
  },
  "vscode": {
   "interpreter": {
    "hash": "31f2aee4e71d21fbe5cf8b01ff0e069b9275f58929596ceb00d14d90e3e16cd6"
   }
  }
 },
 "nbformat": 4,
 "nbformat_minor": 1
}
