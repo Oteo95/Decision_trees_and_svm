{
 "cells": [
  {
   "attachments": {},
   "cell_type": "markdown",
   "metadata": {},
   "source": [
    "<img src=\"datamecum_logo.png\" align=\"right\" style=\"float\" width=\"400\">\n",
    "<font color=\"#CA3532\"><h1 align=\"left\">Programa técnico intensivo en data science. Datamecum.</h1></font>\n",
    "<font color=\"#6E6E6E\"><h2 align=\"left\">SVM</h2></font> \n",
    "\n",
    "# Clasificación de flores Iris"
   ]
  },
  {
   "cell_type": "code",
   "execution_count": null,
   "metadata": {},
   "outputs": [],
   "source": [
    "import pandas as pd\n",
    "import numpy as np\n",
    "from sklearn import svm, datasets\n",
    "import matplotlib.pyplot as plt\n",
    "%matplotlib inline"
   ]
  },
  {
   "cell_type": "code",
   "execution_count": null,
   "metadata": {},
   "outputs": [],
   "source": [
    "iris = datasets.load_iris()\n",
    "print(iris)"
   ]
  },
  {
   "cell_type": "code",
   "execution_count": null,
   "metadata": {},
   "outputs": [],
   "source": [
    "X = iris.data[:, :2]\n",
    "Y = iris.target"
   ]
  },
  {
   "cell_type": "code",
   "execution_count": null,
   "metadata": {},
   "outputs": [],
   "source": [
    "x_min, x_max = X[:,0].min()-1, X[:,0].max()+1\n",
    "y_min, y_max = X[:,1].min()-1, X[:,1].max()+1\n",
    "h = (x_max - x_min)/100\n",
    "\n",
    "xx, yy = np.meshgrid(np.arange(x_min, x_max, h), np.arange(y_min, y_max, h))\n",
    "\n",
    "X_plot = np.c_[xx.ravel(), yy.ravel()]"
   ]
  },
  {
   "cell_type": "code",
   "execution_count": null,
   "metadata": {},
   "outputs": [],
   "source": [
    "C = 1.0\n",
    "svc = svm.SVC(kernel=\"linear\", C=C, decision_function_shape=\"ovr\").fit(X,Y)\n",
    "Ypred = svc.predict(X_plot)\n",
    "Ypred = Ypred.reshape(xx.shape)"
   ]
  },
  {
   "cell_type": "code",
   "execution_count": null,
   "metadata": {},
   "outputs": [],
   "source": [
    "plt.figure(figsize=(16,9))\n",
    "plt.contourf(xx,yy,Ypred, cmap=plt.cm.tab10, alpha = 0.3)\n",
    "plt.scatter(X[:,0], X[:,1], c=Y, cmap=plt.cm.tab10)\n",
    "plt.xlabel(\"Longitud de los pétalos\")\n",
    "plt.ylabel(\"Anchura de los pétalos\")\n",
    "plt.xlim(xx.min(), xx.max())\n",
    "plt.title(\"SVC para las flores de Iris con Kernel Lineal\")"
   ]
  },
  {
   "cell_type": "code",
   "execution_count": null,
   "metadata": {},
   "outputs": [],
   "source": [
    "C = 1.0\n",
    "svc = svm.SVC(kernel=\"rbf\", C=C, decision_function_shape=\"ovr\").fit(X,Y)\n",
    "Ypred = svc.predict(X_plot)\n",
    "Ypred = Ypred.reshape(xx.shape)"
   ]
  },
  {
   "cell_type": "code",
   "execution_count": null,
   "metadata": {},
   "outputs": [],
   "source": [
    "plt.figure(figsize=(16,9))\n",
    "plt.contourf(xx,yy,Ypred, cmap=plt.cm.tab10, alpha = 0.3)\n",
    "plt.scatter(X[:,0], X[:,1], c=Y, cmap=plt.cm.tab10)\n",
    "plt.xlabel(\"Longitud de los pétalos\")\n",
    "plt.ylabel(\"Anchura de los pétalos\")\n",
    "plt.xlim(xx.min(), xx.max())\n",
    "plt.title(\"SVC para las flores de Iris con Kernel Radial\")"
   ]
  },
  {
   "cell_type": "code",
   "execution_count": null,
   "metadata": {},
   "outputs": [],
   "source": [
    "C = 1.0\n",
    "svc = svm.SVC(kernel=\"poly\", C=C, decision_function_shape=\"ovr\").fit(X,Y)\n",
    "Ypred = svc.predict(X_plot)\n",
    "Ypred = Ypred.reshape(xx.shape)\n",
    "plt.figure(figsize=(16,9))\n",
    "plt.contourf(xx,yy,Ypred, cmap=plt.cm.tab10, alpha = 0.3)\n",
    "plt.scatter(X[:,0], X[:,1], c=Y, cmap=plt.cm.tab10)\n",
    "plt.xlabel(\"Longitud de los pétalos\")\n",
    "plt.ylabel(\"Anchura de los pétalos\")\n",
    "plt.xlim(xx.min(), xx.max())\n",
    "plt.title(\"SVC para las flores de Iris con Kernel Sigmoide\")"
   ]
  },
  {
   "cell_type": "code",
   "execution_count": null,
   "metadata": {},
   "outputs": [],
   "source": [
    "from sklearn.model_selection import train_test_split, GridSearchCV\n",
    "from sklearn.metrics import classification_report\n",
    "from sklearn.utils import shuffle"
   ]
  },
  {
   "cell_type": "code",
   "execution_count": null,
   "metadata": {},
   "outputs": [],
   "source": [
    "X, Y = shuffle(X,Y, random_state = 0)"
   ]
  },
  {
   "cell_type": "code",
   "execution_count": null,
   "metadata": {},
   "outputs": [],
   "source": [
    "X_train, X_test, Y_train, Y_test = train_test_split(X, Y, test_size = 0.25, random_state=0)"
   ]
  },
  {
   "cell_type": "code",
   "execution_count": null,
   "metadata": {},
   "outputs": [],
   "source": [
    "parameters = [\n",
    "    {\n",
    "        'kernel': ['rbf'],\n",
    "        'gamma' : [1e-4,1e-3,1e-2, 0.1, 0.2, 0.5],\n",
    "        'C': [1,10,100,1000]\n",
    "    },\n",
    "    {\n",
    "        'kernel':[\"linear\"],\n",
    "        'C':[1,10,100,1000]\n",
    "    }\n",
    "]"
   ]
  },
  {
   "cell_type": "code",
   "execution_count": null,
   "metadata": {},
   "outputs": [],
   "source": [
    "clf = GridSearchCV(svm.SVC(decision_function_shape='ovr'), param_grid=parameters, cv=5)\n",
    "clf.fit(X,Y)"
   ]
  },
  {
   "cell_type": "code",
   "execution_count": null,
   "metadata": {},
   "outputs": [],
   "source": [
    "clf.best_params_"
   ]
  },
  {
   "cell_type": "code",
   "execution_count": null,
   "metadata": {},
   "outputs": [],
   "source": [
    "clf.cv_results_"
   ]
  },
  {
   "cell_type": "code",
   "execution_count": null,
   "metadata": {},
   "outputs": [],
   "source": [
    "means = clf.cv_results_['mean_test_score']\n",
    "stds = clf.cv_results_['std_test_score']\n",
    "params = clf.cv_results_['params']\n",
    "for m, s, p in zip(means, stds, params):\n",
    "    print(\"%0.3f (+/-%0.3f) para %r\"%(m, 2*s, p))"
   ]
  },
  {
   "cell_type": "code",
   "execution_count": null,
   "metadata": {},
   "outputs": [],
   "source": [
    "y_pred = clf.predict(X_test)"
   ]
  },
  {
   "cell_type": "code",
   "execution_count": null,
   "metadata": {},
   "outputs": [],
   "source": [
    "print(classification_report(Y_test, y_pred, target_names=[\"setosa\", \"versicolor\",\"virginica\"]))"
   ]
  },
  {
   "cell_type": "markdown",
   "metadata": {},
   "source": [
    "# Resumen final de la clasificación de Iris"
   ]
  },
  {
   "cell_type": "code",
   "execution_count": null,
   "metadata": {},
   "outputs": [],
   "source": [
    "def svm_iris(C=1.0, gamma = 0.01, kernel = \"rbf\"):\n",
    "    import pandas as pd\n",
    "    import numpy as np\n",
    "    from sklearn import svm, datasets\n",
    "    import matplotlib.pyplot as plt\n",
    "\n",
    "    iris = datasets.load_iris()\n",
    "    \n",
    "    \n",
    "    X = iris.data[:, :2]\n",
    "    Y = iris.target\n",
    "\n",
    "    x_min, x_max = X[:,0].min()-1, X[:,0].max()+1\n",
    "    y_min, y_max = X[:,1].min()-1, X[:,1].max()+1\n",
    "    h = (x_max - x_min)/100\n",
    "\n",
    "    xx, yy = np.meshgrid(np.arange(x_min, x_max, h), np.arange(y_min, y_max, h))\n",
    "\n",
    "    X_plot = np.c_[xx.ravel(), yy.ravel()]\n",
    "\n",
    "    svc = svm.SVC(kernel=kernel, C=C, gamma=gamma, decision_function_shape=\"ovr\").fit(X,Y)\n",
    "    Ypred = svc.predict(X_plot)\n",
    "    Ypred = Ypred.reshape(xx.shape)\n",
    "    plt.figure(figsize=(16,9))\n",
    "    plt.contourf(xx,yy,Ypred, cmap=plt.cm.tab10, alpha = 0.3)\n",
    "    plt.scatter(X[:,0], X[:,1], c=Y, cmap=plt.cm.tab10)\n",
    "    plt.xlabel(\"Longitud de los pétalos\")\n",
    "    plt.ylabel(\"Anchura de los pétalos\")\n",
    "    plt.xlim(xx.min(), xx.max())\n",
    "    plt.title(\"SVC para las flores de Iris con Kernel \"+kernel)"
   ]
  },
  {
   "cell_type": "code",
   "execution_count": null,
   "metadata": {},
   "outputs": [],
   "source": [
    "from ipywidgets import interact, fixed"
   ]
  },
  {
   "cell_type": "code",
   "execution_count": null,
   "metadata": {},
   "outputs": [],
   "source": [
    "interact(svm_iris, C=[0.01, 0.1, 1,10,100,1000, 1e6, 1e10],\n",
    "        gamma=[1e-5,1e-4,1e-3,1e-2, 0.1, 0.2, 0.5,0.99],\n",
    "        kernel=[\"rbf\",\"linear\",\"sigmoid\",\"poly\"])"
   ]
  },
  {
   "cell_type": "code",
   "execution_count": null,
   "metadata": {},
   "outputs": [],
   "source": []
  }
 ],
 "metadata": {
  "kernelspec": {
   "display_name": "Python 3",
   "language": "python",
   "name": "python3"
  },
  "language_info": {
   "codemirror_mode": {
    "name": "ipython",
    "version": 3
   },
   "file_extension": ".py",
   "mimetype": "text/x-python",
   "name": "python",
   "nbconvert_exporter": "python",
   "pygments_lexer": "ipython3",
   "version": "3.8.10 (default, Nov 14 2022, 12:59:47) \n[GCC 9.4.0]"
  },
  "vscode": {
   "interpreter": {
    "hash": "31f2aee4e71d21fbe5cf8b01ff0e069b9275f58929596ceb00d14d90e3e16cd6"
   }
  }
 },
 "nbformat": 4,
 "nbformat_minor": 2
}
