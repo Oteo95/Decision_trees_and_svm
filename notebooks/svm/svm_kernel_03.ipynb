{
 "cells": [
  {
   "attachments": {},
   "cell_type": "markdown",
   "metadata": {},
   "source": [
    "<img src=\"datamecum_logo.png\" align=\"right\" style=\"float\" width=\"400\">\n",
    "<font color=\"#CA3532\"><h1 align=\"left\">Programa técnico intensivo en data science. Datamecum.</h1></font>\n",
    "<font color=\"#6E6E6E\"><h2 align=\"left\">SVM</h2></font> \n",
    "\n",
    "# Identificar fronteras no lineales"
   ]
  },
  {
   "cell_type": "code",
   "execution_count": null,
   "metadata": {},
   "outputs": [],
   "source": [
    "from sklearn.datasets import make_circles, make_blobs\n",
    "import matplotlib.pyplot as plt\n",
    "import numpy as np\n",
    "from sklearn.svm import SVC\n",
    "from mpl_toolkits import mplot3d\n",
    "from ipywidgets import interact, fixed"
   ]
  },
  {
   "cell_type": "code",
   "execution_count": null,
   "metadata": {},
   "outputs": [],
   "source": [
    "X, Y = make_circles(100, factor = .1, noise = .1) "
   ]
  },
  {
   "cell_type": "code",
   "execution_count": null,
   "metadata": {},
   "outputs": [],
   "source": [
    "def plt_svc(model, ax=None, plot_support=True):\n",
    "    \"\"\"Plot de la función de decisión para una clasificación en 2D con SVC\"\"\"\n",
    "    if ax is None:\n",
    "        ax = plt.gca()\n",
    "    xlim = ax.get_xlim()\n",
    "    ylim = ax.get_ylim()\n",
    "    \n",
    "    # Generamos la parrila de puntos para evaluar el modelo\n",
    "    xx = np.linspace(xlim[0], xlim[1], 30)\n",
    "    yy = np.linspace(ylim[0], ylim[1], 30)\n",
    "    Y, X = np.meshgrid(yy,xx)\n",
    "    \n",
    "    xy = np.vstack([X.ravel(), Y.ravel()]).T\n",
    "    P = model.decision_function(xy).reshape(X.shape)\n",
    "\n",
    "    \n",
    "    # Representamos las fronteras y los márgenes del SVC\n",
    "    ax.contour(X,Y,P, colors=\"k\", levels=[-1,0,1], alpha = 0.5, linestyles=[\"--\", \"-\", \"--\"])\n",
    "        \n",
    "    if plot_support:\n",
    "        ax.scatter(model.support_vectors_[:,0], \n",
    "                   model.support_vectors_[:,1], \n",
    "                   s=300, linewidth=1, facecolors = \"blue\");\n",
    "    \n",
    "    \n",
    "    ax.set_xlim(xlim)\n",
    "    ax.set_ylim(ylim)\n",
    "    "
   ]
  },
  {
   "cell_type": "code",
   "execution_count": null,
   "metadata": {},
   "outputs": [],
   "source": [
    "plt.scatter(X[:,0], X[:,1], c=Y, s=50, cmap=\"autumn\")"
   ]
  },
  {
   "cell_type": "code",
   "execution_count": null,
   "metadata": {},
   "outputs": [],
   "source": [
    "plt.scatter(X[:,0], X[:,1], c=Y, s=50, cmap=\"autumn\")\n",
    "plt_svc(SVC(kernel=\"linear\").fit(X,Y), plot_support=False)"
   ]
  },
  {
   "cell_type": "code",
   "execution_count": null,
   "metadata": {},
   "outputs": [],
   "source": [
    "r = np.exp(-(X**2).sum(1))"
   ]
  },
  {
   "cell_type": "code",
   "execution_count": null,
   "metadata": {},
   "outputs": [],
   "source": [
    "r"
   ]
  },
  {
   "cell_type": "code",
   "execution_count": null,
   "metadata": {},
   "outputs": [],
   "source": [
    "def plot_3D(elev=30, azim=30, X=X, Y=Y, r=r):\n",
    "    ax = plt.subplot(projection=\"3d\")\n",
    "    ax.scatter3D(X[:,0], X[:,1],r, c=Y, s= 50, cmap=\"autumn\")\n",
    "    ax.view_init(elev=elev, azim=azim)\n",
    "    \n",
    "    ax.set_xlabel(\"x[0]\")\n",
    "    ax.set_ylabel(\"y[1]\")\n",
    "    ax.set_zlabel(\"r\")\n",
    "    \n",
    "    "
   ]
  },
  {
   "cell_type": "code",
   "execution_count": null,
   "metadata": {},
   "outputs": [],
   "source": [
    "interact(plot_3D, elev=[-90,-60,-30,0,30,60,90], \n",
    "         azim=[-180,-150,-120,-90,-60,-30,0,30,60,90,120,150, 180], \n",
    "         X = fixed(X), Y = fixed(Y), r = fixed(r))"
   ]
  },
  {
   "cell_type": "code",
   "execution_count": null,
   "metadata": {},
   "outputs": [],
   "source": [
    "rbf = SVC(kernel=\"rbf\", C=1E6)\n",
    "rbf.fit(X,Y)"
   ]
  },
  {
   "cell_type": "code",
   "execution_count": null,
   "metadata": {},
   "outputs": [],
   "source": [
    "plt.scatter(X[:,0], X[:,1], c=Y, s=50, cmap=\"autumn\")\n",
    "plt_svc(rbf)\n",
    "plt.scatter(rbf.support_vectors_[:,0], rbf.support_vectors_[:,1], s=300, lw=1, facecolors=\"blue\")"
   ]
  },
  {
   "cell_type": "markdown",
   "metadata": {},
   "source": [
    "## Ajustar los parámetros de SVM"
   ]
  },
  {
   "cell_type": "code",
   "execution_count": null,
   "metadata": {},
   "outputs": [],
   "source": [
    "X, Y = make_blobs(n_samples=100, centers = 2, random_state=0, cluster_std=1.2)"
   ]
  },
  {
   "cell_type": "code",
   "execution_count": null,
   "metadata": {},
   "outputs": [],
   "source": [
    "plt.scatter(X[:,0], X[:,1], c = Y, s=50, cmap=\"autumn\")\n",
    "model = SVC(kernel=\"linear\", C=10)\n",
    "model.fit(X,Y)\n",
    "plt_svc(model)"
   ]
  },
  {
   "cell_type": "code",
   "execution_count": null,
   "metadata": {},
   "outputs": [],
   "source": [
    "X, Y = make_blobs(n_samples=100, centers=2, random_state=0, cluster_std=0.8)\n",
    "plt.scatter(X[:,0], X[:,1], c = Y, s=50, cmap=\"autumn\")"
   ]
  },
  {
   "cell_type": "code",
   "execution_count": null,
   "metadata": {},
   "outputs": [],
   "source": [
    "fig, ax = plt.subplots(1,2, figsize=(16,6))\n",
    "fig.subplots_adjust(left = 0.05, right = 0.95, wspace=0.1)\n",
    "\n",
    "for ax_i, C in zip(ax, [10.0, 0.1]):\n",
    "    model = SVC(kernel=\"linear\", C=C)\n",
    "    model.fit(X,Y)\n",
    "    ax_i.scatter(X[:,0],X[:,1], c = Y, s = 50, cmap=\"autumn\")\n",
    "    plt_svc(model, ax_i)\n",
    "    ax_i.set_title(\"C = {0:.1f}\".format(C), size = 15)"
   ]
  },
  {
   "cell_type": "code",
   "execution_count": null,
   "metadata": {},
   "outputs": [],
   "source": []
  }
 ],
 "metadata": {
  "kernelspec": {
   "display_name": "Python 3",
   "language": "python",
   "name": "python3"
  },
  "language_info": {
   "codemirror_mode": {
    "name": "ipython",
    "version": 3
   },
   "file_extension": ".py",
   "mimetype": "text/x-python",
   "name": "python",
   "nbconvert_exporter": "python",
   "pygments_lexer": "ipython3",
   "version": "3.8.10 (default, Nov 14 2022, 12:59:47) \n[GCC 9.4.0]"
  },
  "vscode": {
   "interpreter": {
    "hash": "31f2aee4e71d21fbe5cf8b01ff0e069b9275f58929596ceb00d14d90e3e16cd6"
   }
  }
 },
 "nbformat": 4,
 "nbformat_minor": 2
}
