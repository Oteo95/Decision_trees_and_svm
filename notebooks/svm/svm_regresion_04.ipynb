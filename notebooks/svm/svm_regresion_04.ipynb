{
 "cells": [
  {
   "attachments": {},
   "cell_type": "markdown",
   "metadata": {},
   "source": [
    "<img src=\"datamecum_logo.png\" align=\"right\" style=\"float\" width=\"400\">\n",
    "<font color=\"#CA3532\"><h1 align=\"left\">Programa técnico intensivo en data science. Datamecum.</h1></font>\n",
    "<font color=\"#6E6E6E\"><h2 align=\"left\">SVM</h2></font> \n",
    "\n",
    "# SVM para Regresión"
   ]
  },
  {
   "cell_type": "code",
   "execution_count": null,
   "metadata": {},
   "outputs": [],
   "source": [
    "import numpy as np\n",
    "import matplotlib.pyplot as plt\n",
    "from sklearn.svm import SVR"
   ]
  },
  {
   "cell_type": "code",
   "execution_count": null,
   "metadata": {},
   "outputs": [],
   "source": [
    "X = np.sort(5*np.random.rand(200,1),axis=0)\n",
    "Y = np.sin(X).ravel()\n",
    "Y[::5] += 3*(0.5 - np.random.rand(40))"
   ]
  },
  {
   "cell_type": "code",
   "execution_count": null,
   "metadata": {},
   "outputs": [],
   "source": [
    "plt.scatter(X,Y, color=\"darkorange\", label=\"data\")"
   ]
  },
  {
   "cell_type": "code",
   "execution_count": null,
   "metadata": {},
   "outputs": [],
   "source": [
    "C=1e3\n",
    "svr_lin = SVR(kernel=\"linear\", C=C)\n",
    "svr_rbf = SVR(kernel=\"rbf\", C=C, gamma=0.1)\n",
    "svr_pol = SVR(kernel=\"poly\", C=C, degree=3)"
   ]
  },
  {
   "cell_type": "code",
   "execution_count": null,
   "metadata": {},
   "outputs": [],
   "source": [
    "y_lin = svr_lin.fit(X,Y).predict(X)\n",
    "y_rbf = svr_rbf.fit(X,Y).predict(X)\n",
    "y_pol = svr_pol.fit(X,Y).predict(X)"
   ]
  },
  {
   "cell_type": "code",
   "execution_count": null,
   "metadata": {},
   "outputs": [],
   "source": [
    "lw = 2\n",
    "plt.figure(figsize=(16,9))\n",
    "plt.scatter(X,Y,color=\"darkorange\", label =\"data\")\n",
    "plt.plot(X,y_lin, color=\"navy\", lw = lw, label = \"SVM Lineal\")\n",
    "plt.plot(X,y_rbf, color=\"c\", lw=lw, label=\"SVM Radial\")\n",
    "plt.plot(X,y_pol, color=\"cornflowerblue\", label=\"SVM Polinómico\")\n",
    "plt.xlabel(\"x\")\n",
    "plt.ylabel(\"y\")\n",
    "plt.title(\"Support Vector Regression\")\n",
    "plt.legend()\n",
    "plt.show()"
   ]
  },
  {
   "cell_type": "code",
   "execution_count": null,
   "metadata": {},
   "outputs": [],
   "source": []
  }
 ],
 "metadata": {
  "kernelspec": {
   "display_name": "Python 3",
   "language": "python",
   "name": "python3"
  },
  "language_info": {
   "codemirror_mode": {
    "name": "ipython",
    "version": 3
   },
   "file_extension": ".py",
   "mimetype": "text/x-python",
   "name": "python",
   "nbconvert_exporter": "python",
   "pygments_lexer": "ipython3",
   "version": "3.8.10 (default, Nov 14 2022, 12:59:47) \n[GCC 9.4.0]"
  },
  "vscode": {
   "interpreter": {
    "hash": "31f2aee4e71d21fbe5cf8b01ff0e069b9275f58929596ceb00d14d90e3e16cd6"
   }
  }
 },
 "nbformat": 4,
 "nbformat_minor": 2
}
