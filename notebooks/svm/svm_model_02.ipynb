{
 "cells": [
  {
   "attachments": {},
   "cell_type": "markdown",
   "metadata": {},
   "source": [
    "<img src=\"datamecum_logo.png\" align=\"right\" style=\"float\" width=\"400\">\n",
    "<font color=\"#CA3532\"><h1 align=\"left\">Programa técnico intensivo en data science. Datamecum.</h1></font>\n",
    "<font color=\"#6E6E6E\"><h2 align=\"left\">SVM</h2></font> "
   ]
  },
  {
   "cell_type": "code",
   "execution_count": null,
   "metadata": {},
   "outputs": [],
   "source": [
    "import numpy as np\n",
    "import matplotlib.pyplot as plt\n",
    "from scipy import stats\n",
    "\n",
    "import seaborn as sns; sns.set()"
   ]
  },
  {
   "cell_type": "code",
   "execution_count": null,
   "metadata": {},
   "outputs": [],
   "source": [
    "from sklearn.datasets import make_blobs"
   ]
  },
  {
   "cell_type": "code",
   "execution_count": null,
   "metadata": {},
   "outputs": [],
   "source": [
    "X, Y = make_blobs(n_samples=50, centers=2, random_state=0, cluster_std=0.6)"
   ]
  },
  {
   "cell_type": "code",
   "execution_count": null,
   "metadata": {},
   "outputs": [],
   "source": [
    "plt.scatter(X[:,0], X[:,1], c = Y, s = 50, cmap=\"autumn\")"
   ]
  },
  {
   "cell_type": "code",
   "execution_count": null,
   "metadata": {},
   "outputs": [],
   "source": [
    "xx = np.linspace(-1, 3.5)\n",
    "plt.scatter(X[:,0], X[:,1], c = Y, s = 50, cmap=\"autumn\")\n",
    "plt.plot([0.5], [2.1], 'x', color=\"blue\", markeredgewidth=2, markersize=10)\n",
    "\n",
    "for a, b in [(1,0.65), (0.5, 1.6), (-0.2, 2.9)]:\n",
    "    yy = a * xx + b\n",
    "    plt.plot(xx, yy, \"-k\")\n",
    "    \n",
    "plt.xlim(-1,3.5)"
   ]
  },
  {
   "cell_type": "markdown",
   "metadata": {},
   "source": [
    "## Maximización del margen"
   ]
  },
  {
   "cell_type": "code",
   "execution_count": null,
   "metadata": {},
   "outputs": [],
   "source": [
    "xx = np.linspace(-1, 3.5)\n",
    "plt.scatter(X[:,0], X[:,1], c = Y, s = 50, cmap=\"autumn\")\n",
    "plt.plot([0.5], [2.1], 'x', color=\"blue\", markeredgewidth=2, markersize=10)\n",
    "\n",
    "for a, b, d in [(1,0.65, 0.33), (0.5, 1.6,0.55), (-0.2, 2.9, 0.2)]:\n",
    "    yy = a * xx + b\n",
    "    plt.plot(xx, yy, \"-k\")\n",
    "    plt.fill_between(xx, yy-d, yy+d, edgecolor='none', color=\"#BBBBBB\", alpha = 0.4)\n",
    "    \n",
    "plt.xlim(-1,3.5)"
   ]
  },
  {
   "cell_type": "markdown",
   "metadata": {},
   "source": [
    "## Creación del modelo SVM"
   ]
  },
  {
   "cell_type": "code",
   "execution_count": null,
   "metadata": {},
   "outputs": [],
   "source": [
    "from sklearn.svm import SVC"
   ]
  },
  {
   "cell_type": "code",
   "execution_count": null,
   "metadata": {},
   "outputs": [],
   "source": [
    "model=SVC(kernel=\"linear\", C = 1E10)\n",
    "model.fit(X,Y)"
   ]
  },
  {
   "cell_type": "code",
   "execution_count": null,
   "metadata": {},
   "outputs": [],
   "source": [
    "def plt_svc(model, ax=None, plot_support=True):\n",
    "    \"\"\"Plot de la función de decisión para una clasificación en 2D con SVC\"\"\"\n",
    "    if ax is None:\n",
    "        ax = plt.gca()\n",
    "    xlim = ax.get_xlim()\n",
    "    ylim = ax.get_ylim()\n",
    "    \n",
    "    ##Generamos la parrila de puntos para evaluar el modelo\n",
    "    xx = np.linspace(xlim[0], xlim[1], 30)\n",
    "    yy = np.linspace(ylim[0], ylim[1], 30)\n",
    "    Y, X = np.meshgrid(yy,xx)\n",
    "    \n",
    "    xy = np.vstack([X.ravel(), Y.ravel()]).T\n",
    "    P = model.decision_function(xy).reshape(X.shape)\n",
    "\n",
    "    \n",
    "    ##Representamos las fronteras y los márgenes del SVC\n",
    "    ax.contour(X,Y,P, colors=\"k\", levels=[-1,0,1], alpha = 0.5, linestyles=[\"--\", \"-\", \"--\"])\n",
    "    \n",
    "    print(model.support_vectors_)\n",
    "    \n",
    "    if plot_support:\n",
    "        ax.scatter(model.support_vectors_[:,0], \n",
    "                   model.support_vectors_[:,1], \n",
    "                   s=300, linewidth=1, facecolors = \"black\");\n",
    "    \n",
    "    \n",
    "    ax.set_xlim(xlim)\n",
    "    ax.set_ylim(ylim)\n",
    "    "
   ]
  },
  {
   "cell_type": "code",
   "execution_count": null,
   "metadata": {},
   "outputs": [],
   "source": [
    "plt.scatter(X[:,0], X[:,1], c = Y, s = 50, cmap = \"autumn\")\n",
    "plt_svc(model, plot_support=True)"
   ]
  },
  {
   "cell_type": "code",
   "execution_count": null,
   "metadata": {},
   "outputs": [],
   "source": [
    "def plot_svm(N=10, ax=None):\n",
    "    X, Y = make_blobs(n_samples=200, centers=2, random_state=0, cluster_std=0.6)\n",
    "    \n",
    "    X = X[:N]\n",
    "    Y = Y[:N]\n",
    "    model = SVC(kernel=\"linear\", C=1E10)\n",
    "    model.fit(X,Y)\n",
    "    \n",
    "    ax = ax or plt.gca()\n",
    "    ax.scatter(X[:,0], X[:,1], c=Y, s = 50, cmap=\"autumn\")\n",
    "    ax.set_xlim(-1,4)\n",
    "    ax.set_ylim(-1,6)\n",
    "    plt_svc(model, ax)\n",
    "    \n"
   ]
  },
  {
   "cell_type": "code",
   "execution_count": null,
   "metadata": {},
   "outputs": [],
   "source": [
    "fig, ax = plt.subplots(1,2, figsize=(16,6))\n",
    "fig.subplots_adjust(left=0.0625, right = 0.95, wspace = 0.1)\n",
    "for ax_i, N, in zip(ax, [60, 120]):\n",
    "    plot_svm(N, ax_i)\n",
    "    ax_i.set_title(\"N={0}\".format(N))"
   ]
  },
  {
   "cell_type": "code",
   "execution_count": null,
   "metadata": {},
   "outputs": [],
   "source": [
    "from ipywidgets import interact, fixed"
   ]
  },
  {
   "cell_type": "code",
   "execution_count": null,
   "metadata": {},
   "outputs": [],
   "source": [
    "interact(plot_svm, N=[10, 200], ax=fixed(None))"
   ]
  },
  {
   "cell_type": "code",
   "execution_count": null,
   "metadata": {},
   "outputs": [],
   "source": []
  }
 ],
 "metadata": {
  "kernelspec": {
   "display_name": "Python 3",
   "language": "python",
   "name": "python3"
  },
  "language_info": {
   "codemirror_mode": {
    "name": "ipython",
    "version": 3
   },
   "file_extension": ".py",
   "mimetype": "text/x-python",
   "name": "python",
   "nbconvert_exporter": "python",
   "pygments_lexer": "ipython3",
   "version": "3.8.10 (default, Nov 14 2022, 12:59:47) \n[GCC 9.4.0]"
  },
  "vscode": {
   "interpreter": {
    "hash": "31f2aee4e71d21fbe5cf8b01ff0e069b9275f58929596ceb00d14d90e3e16cd6"
   }
  }
 },
 "nbformat": 4,
 "nbformat_minor": 2
}
